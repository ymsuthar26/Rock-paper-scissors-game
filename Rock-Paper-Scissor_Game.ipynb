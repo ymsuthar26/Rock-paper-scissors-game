{
 "cells": [
  {
   "cell_type": "code",
   "execution_count": null,
   "id": "0f7d32fa-b492-4e78-a886-940f4562577d",
   "metadata": {},
   "outputs": [
    {
     "name": "stdout",
     "output_type": "stream",
     "text": [
      "LET'S PLAY GAME....\"ROCK\", \"PAPER\" OR \"SCISSORS\"!!! \n",
      "    BEFORE STARTING THE GAME ...NOTE THE RULES ABOUT IT \n",
      "    1. PLAYER HAVE TO CHOOSE ONE \"ROCK\", \"PAPER\" OR \"SCISSORS\"\n",
      "    2. WINS IF : ROCKS BEATS SCISSORS\n",
      "                 SCISSORS BEATS PAPER\n",
      "                 PAPER BEATS ROCK \n",
      "    3. THERE WILL BE THREE ROUNDS HIGHEST SCORE WILL WIN \n",
      "\n",
      "               LETS GO!!!!\n",
      "               \n",
      "               \n",
      "                                          \n"
     ]
    },
    {
     "name": "stdin",
     "output_type": "stream",
     "text": [
      "CHOOSE ONE 'ROCK', 'PAPER' OR 'SCISSORS'  : ROCK\n"
     ]
    },
    {
     "name": "stdout",
     "output_type": "stream",
     "text": [
      "PLAYER1 GUESS :  ROCK  PLAYER2 GUESS  :  SCISSORS                     PLAYER1 WINS THE ROUND\n",
      "NO OF ROUND LEFT  :  2\n",
      "PLAYER_1 POINT  :  1                    PLAYER_2 POINT  :   0\n"
     ]
    },
    {
     "name": "stdin",
     "output_type": "stream",
     "text": [
      "CHOOSE ONE 'ROCK', 'PAPER' OR 'SCISSORS'  : PAPER\n"
     ]
    },
    {
     "name": "stdout",
     "output_type": "stream",
     "text": [
      "PLAYER1 GUESS :  PAPER  PLAYER2 GUESS  :  PAPER                      ROUND TIED \n",
      "NO OF ROUND LEFT  :  1\n",
      "PLAYER_1 POINT  :  1                   PLAYER_2 POINT  :   0\n"
     ]
    },
    {
     "name": "stdin",
     "output_type": "stream",
     "text": [
      "CHOOSE ONE 'ROCK', 'PAPER' OR 'SCISSORS'  : SCISSORS\n"
     ]
    },
    {
     "name": "stdout",
     "output_type": "stream",
     "text": [
      "PLAYER1 GUESS :  SCISSORS  PLAYER2 GUESS  :  ROCK                 PLAYER2 WINS THE ROUND\n",
      "NO OF ROUND LEFT  :  0\n",
      "PLAYER_1 POINT  :  1                    PLAYER_2 POINT  :   1\n",
      "                                                  GAME TIED  !!!!!!!! \n"
     ]
    }
   ],
   "source": [
    "import random\n",
    "import string\n",
    "import time \n",
    "\n",
    "\n",
    "\n",
    "def timer(func):\n",
    "    def wap(*args):\n",
    "        start=time.time()\n",
    "        func(*args)\n",
    "    return wap\n",
    "print( \"\"\"LET'S PLAY GAME....\"ROCK\", \"PAPER\" OR \"SCISSORS\"!!! \n",
    "    BEFORE STARTING THE GAME ...NOTE THE RULES ABOUT IT \n",
    "    1. PLAYER HAVE TO CHOOSE ONE \"ROCK\", \"PAPER\" OR \"SCISSORS\"\n",
    "    2. WINS IF : ROCKS BEATS SCISSORS\n",
    "                 SCISSORS BEATS PAPER\n",
    "                 PAPER BEATS ROCK \n",
    "    3. THERE WILL BE THREE ROUNDS HIGHEST SCORE WILL WIN \n",
    "\n",
    "               LETS GO!!!!\n",
    "               \n",
    "               \n",
    "                                          \"\"\")\n",
    "           \n",
    "game=[\"ROCK\", \"PAPER\" , \"SCISSORS\"]\n",
    "@timer\n",
    "def Game_loaded():\n",
    "        count=3\n",
    "        player1_point=0\n",
    "        player2_point=0\n",
    "        while count>0:\n",
    "            player_guess=input(\"CHOOSE ONE 'ROCK', 'PAPER' OR 'SCISSORS'  :\" )  \n",
    "            time.sleep(2)\n",
    "            random_guess=random.choice(game)\n",
    "            if player_guess.upper()==random_guess:\n",
    "                count=count-1\n",
    "                print(\"PLAYER1 GUESS : \",player_guess.upper(),\" PLAYER2 GUESS  : \",random_guess,\"                     ROUND TIED \")\n",
    "                time.sleep(2)\n",
    "                print(\"NO OF ROUND LEFT  : \",count)\n",
    "                time.sleep(2)\n",
    "                print(\"PLAYER_1 POINT  : \",player1_point,\"                  PLAYER_2 POINT  :  \",player2_point)\n",
    "                time.sleep(2)\n",
    "            elif (player_guess.upper() == \"ROCK\" and random_guess==\"SCISSORS\")or (player_guess.upper() == \"SCISSORS\" and random_guess==\"PAPER\") or (player_guess.upper() == \"PAPER\" and random_guess==\"ROCK\"):\n",
    "                count=count-1\n",
    "                print(\"PLAYER1 GUESS : \",player_guess.upper(),\" PLAYER2 GUESS  : \",random_guess,\"                    PLAYER1 WINS THE ROUND\")\n",
    "                time.sleep(2)\n",
    "                print(\"NO OF ROUND LEFT  : \",count)\n",
    "                time.sleep(2)\n",
    "                player1_point=player1_point+1\n",
    "                print(\"PLAYER_1 POINT  : \",player1_point,\"                   PLAYER_2 POINT  :  \",player2_point)\n",
    "                time.sleep(2)\n",
    "            elif (player_guess.upper() == \"ROCK\" and random_guess==\"PAPER\")or (player_guess.upper() == \"SCISSORS\" and random_guess==\"ROCK\") or (player_guess.upper() == \"PAPER\" and random_guess==\"SCISSORS\"):\n",
    "                count=count-1\n",
    "                print(\"PLAYER1 GUESS : \",player_guess.upper(),\" PLAYER2 GUESS  : \",random_guess,\"                PLAYER2 WINS THE ROUND\")\n",
    "                time.sleep(2)\n",
    "                print(\"NO OF ROUND LEFT  : \",count)\n",
    "                time.sleep(2)\n",
    "                player2_point=player2_point+1\n",
    "                print(\"PLAYER_1 POINT  : \",player1_point,\"                   PLAYER_2 POINT  :  \",player2_point)\n",
    "                time.sleep(2)\n",
    "        if player1_point > player2_point:\n",
    "            print(\"                                                    YOU WON !!!!!!!! \")\n",
    "            time.sleep(2)\n",
    "        elif player1_point < player2_point:\n",
    "            print(\"                                                   UFF HARD LUCK !!!!!!!! \") \n",
    "            time.sleep(2)\n",
    "        else:\n",
    "            print(\"                                                  GAME TIED  !!!!!!!! \")\n",
    "            time.sleep(2)\n",
    "        New_Game()\n",
    "\n",
    "\n",
    "\n",
    "@timer\n",
    "def New_Game():\n",
    "    new_game = input(\" DO YOU WANT TO PLAY NEW GAME...TYPE YES OR NO   :\")\n",
    "    time.sleep(2)\n",
    "    if new_game.upper() ==\"YES\":\n",
    "            Game_loaded()\n",
    "            time.sleep(2)\n",
    "    elif  new_game.upper()==\"NO\":\n",
    "        print(\"THANKYOU VISIT AGAIN \")\n",
    "        time.sleep(2)\n",
    "    else:\n",
    "        New_Game()\n",
    "        time.sleep(2)\n",
    "Game_loaded()"
   ]
  },
  {
   "cell_type": "code",
   "execution_count": null,
   "id": "1976a5b9-19b2-403c-8200-66f559df5f0e",
   "metadata": {},
   "outputs": [],
   "source": []
  }
 ],
 "metadata": {
  "kernelspec": {
   "display_name": "Python 3 (ipykernel)",
   "language": "python",
   "name": "python3"
  },
  "language_info": {
   "codemirror_mode": {
    "name": "ipython",
    "version": 3
   },
   "file_extension": ".py",
   "mimetype": "text/x-python",
   "name": "python",
   "nbconvert_exporter": "python",
   "pygments_lexer": "ipython3",
   "version": "3.12.7"
  }
 },
 "nbformat": 4,
 "nbformat_minor": 5
}
